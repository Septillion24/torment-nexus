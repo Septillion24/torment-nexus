{
 "cells": [
  {
   "cell_type": "code",
   "execution_count": 23,
   "metadata": {},
   "outputs": [],
   "source": [
    "import os\n",
    "import ember\n",
    "import lightgbm as lgb\n",
    "import numpy as np\n",
    "import pandas as pd\n",
    "import lief\n",
    "import math\n",
    "import matplotlib.pyplot as plt\n",
    "\n",
    "csv_locaiton = \"outputs/builder-optimized.csv\""
   ]
  },
  {
   "cell_type": "code",
   "execution_count": 24,
   "metadata": {},
   "outputs": [
    {
     "data": {
      "text/plain": [
       "0    1.683979e+09\n",
       "1    9.558865e+08\n",
       "Name: header.coff.timestamp, dtype: float64"
      ]
     },
     "execution_count": 24,
     "metadata": {},
     "output_type": "execute_result"
    }
   ],
   "source": [
    "pd.read_csv(\"/workspaces/torment-nexus/binaries/\"+csv_locaiton).loc[:,\"header.coff.timestamp\"]"
   ]
  },
  {
   "cell_type": "code",
   "execution_count": 1,
   "metadata": {},
   "outputs": [
    {
     "data": {
      "text/plain": [
       "{'Alibaba',\n",
       " 'Kingsoft',\n",
       " 'QuickHeal',\n",
       " 'Sangfor Engine Zero',\n",
       " 'Sophos',\n",
       " 'TrendMicro',\n",
       " 'TrendMicro-HouseCall',\n",
       " 'Varist',\n",
       " 'VirIT',\n",
       " 'Webroot'}"
      ]
     },
     "execution_count": 1,
     "metadata": {},
     "output_type": "execute_result"
    }
   ],
   "source": [
    "vendors_before = [\n",
    "    \"AhnLab-V3\", \"Alibaba\", \"Antiy-AVL\", \"Arcabit\", \"Avast\", \"Avert Labs\", \"AVG\", \"Avira (no cloud)\",\n",
    "    \"BitDefender\", \"Bkav Pro\", \"ClamAV\", \"CrowdStrike Falcon\", \"Cybereason\", \"Cylance\", \"Cynet\",\n",
    "    \"DeepInstinct\", \"DrWeb\", \"Elastic\", \"Emsisoft\", \"eScan\", \"ESET-NOD32\", \"Fortinet\", \"GData\",\n",
    "    \"Google\", \"Gridinsoft (no cloud)\", \"Ikarus\", \"Jiangmin\", \"K7AntiVirus\", \"K7GW\", \"Kaspersky\",\n",
    "    \"Kingsoft\", \"Lionic\", \"Malwarebytes\", \"MAX\", \"MaxSecure\", \"Microsoft\", \"NANO-Antivirus\", \"Panda\",\n",
    "    \"QuickHeal\", \"Rising\", \"Sangfor Engine Zero\", \"SecureAge\", \"SentinelOne (Static ML)\", \"Skyhigh (SWG)\",\n",
    "    \"Sophos\", \"Symantec\", \"TACHYON\", \"Tencent\", \"TrendMicro\", \"TrendMicro-HouseCall\", \"Varist\", \"VBA32\",\n",
    "    \"VIPRE\", \"VirIT\", \"Webroot\", \"WithSecure\", \"Zillya\", \"ZoneAlarm by Check Point\"\n",
    "]\n",
    "\n",
    "\n",
    "vendors_after = [\n",
    "    \"AhnLab-V3\", \"ALYac\", \"Antiy-AVL\", \"Arcabit\", \"Avast\", \"Avert Labs\", \"AVG\", \"Avira (no cloud)\",\n",
    "    \"BitDefender\", \"Bkav Pro\", \"ClamAV\", \"CrowdStrike Falcon\", \"Cybereason\", \"Cylance\", \"Cynet\",\n",
    "    \"DeepInstinct\", \"DrWeb\", \"Elastic\", \"Emsisoft\", \"eScan\", \"ESET-NOD32\", \"Fortinet\", \"GData\",\n",
    "    \"Google\", \"Gridinsoft (no cloud)\", \"Ikarus\", \"Jiangmin\", \"K7AntiVirus\", \"K7GW\", \"Kaspersky\",\n",
    "    \"Lionic\", \"Malwarebytes\", \"MAX\", \"MaxSecure\", \"McAfee Scanner\", \"Microsoft\", \"NANO-Antivirus\",\n",
    "    \"Panda\", \"Rising\", \"SecureAge\", \"SentinelOne (Static ML)\", \"Skyhigh (SWG)\", \"Symantec\", \"TACHYON\",\n",
    "    \"Tencent\", \"Trellix (FireEye)\", \"VBA32\", \"VIPRE\", \"WithSecure\", \"Yandex\", \"Zillya\", \"ZoneAlarm by Check Point\"\n",
    "]\n",
    "\n",
    "\n",
    "\n",
    "set(vendors_before) - set(vendors_after)"
   ]
  },
  {
   "cell_type": "code",
   "execution_count": 4,
   "metadata": {},
   "outputs": [
    {
     "name": "stdout",
     "output_type": "stream",
     "text": [
      "0x1000\tdec\tebp\n",
      "0x1001\tpop\tedx\n",
      "0x1002\tnop\t\n",
      "0x1003\tadd\tbyte ptr [ebx], al\n",
      "0x1005\tadd\tbyte ptr [eax], al\n",
      "0x1007\tadd\tbyte ptr [eax + eax], al\n",
      "0x100a\tadd\tbyte ptr [eax], al\n"
     ]
    }
   ],
   "source": [
    "import capstone\n",
    "\n",
    "# Load your binary file\n",
    "with open('/workspaces/torment-nexus/binaries/postgresql.exe', 'rb') as f:\n",
    "    binary_code = f.read()\n",
    "\n",
    "# Initialize Capstone disassembler\n",
    "md = capstone.Cs(capstone.CS_ARCH_X86, capstone.CS_MODE_32)  # For 32-bit x86\n",
    "\n",
    "# Disassemble the binary code\n",
    "for instruction in md.disasm(binary_code, 0x1000):  # 0x1000 is the address to start disassembly\n",
    "    print(f\"0x{instruction.address:x}\\t{instruction.mnemonic}\\t{instruction.op_str}\")"
   ]
  },
  {
   "cell_type": "code",
   "execution_count": null,
   "metadata": {},
   "outputs": [],
   "source": []
  },
  {
   "cell_type": "code",
   "execution_count": null,
   "metadata": {},
   "outputs": [],
   "source": []
  }
 ],
 "metadata": {
  "kernelspec": {
   "display_name": "base",
   "language": "python",
   "name": "python3"
  },
  "language_info": {
   "codemirror_mode": {
    "name": "ipython",
    "version": 3
   },
   "file_extension": ".py",
   "mimetype": "text/x-python",
   "name": "python",
   "nbconvert_exporter": "python",
   "pygments_lexer": "ipython3",
   "version": "3.1.undefined"
  }
 },
 "nbformat": 4,
 "nbformat_minor": 2
}
