{
 "cells": [
  {
   "cell_type": "code",
   "execution_count": 1,
   "metadata": {},
   "outputs": [],
   "source": [
    "import os\n",
    "import ember\n",
    "import lightgbm as lgb\n",
    "import numpy as np\n",
    "import pandas as pd\n",
    "import lief\n",
    "import math\n",
    "import matplotlib.pyplot as plt\n",
    "\n",
    "csv_locaiton = \"outputs/mimikatz-backup-optimized.csv\""
   ]
  },
  {
   "cell_type": "code",
   "execution_count": 2,
   "metadata": {},
   "outputs": [],
   "source": [
    "workspace_location = \"/workspaces/torment-nexus/binaries/\"\n",
    "df = pd.read_csv(f\"{workspace_location}{csv_locaiton}\")"
   ]
  },
  {
   "cell_type": "code",
   "execution_count": 4,
   "metadata": {},
   "outputs": [
    {
     "data": {
      "text/html": [
       "<div>\n",
       "<style scoped>\n",
       "    .dataframe tbody tr th:only-of-type {\n",
       "        vertical-align: middle;\n",
       "    }\n",
       "\n",
       "    .dataframe tbody tr th {\n",
       "        vertical-align: top;\n",
       "    }\n",
       "\n",
       "    .dataframe thead th {\n",
       "        text-align: right;\n",
       "    }\n",
       "</style>\n",
       "<table border=\"1\" class=\"dataframe\">\n",
       "  <thead>\n",
       "    <tr style=\"text-align: right;\">\n",
       "      <th></th>\n",
       "      <th>header.coff.timestamp</th>\n",
       "      <th>directories.certificate_table_size</th>\n",
       "      <th>directories.debug_vaddress</th>\n",
       "      <th>directories.certificate_table_vaddress</th>\n",
       "      <th>directories.export_table_vaddress</th>\n",
       "      <th>directories.export_table_size</th>\n",
       "      <th>header.optional.major_subsystem_version</th>\n",
       "    </tr>\n",
       "  </thead>\n",
       "  <tbody>\n",
       "    <tr>\n",
       "      <th>0</th>\n",
       "      <td>1.278513e+09</td>\n",
       "      <td>3.993015e+09</td>\n",
       "      <td>2.108196e+09</td>\n",
       "      <td>3.910101e+09</td>\n",
       "      <td>2.896806e+09</td>\n",
       "      <td>9.885087e+08</td>\n",
       "      <td>9.128388</td>\n",
       "    </tr>\n",
       "    <tr>\n",
       "      <th>1</th>\n",
       "      <td>1.582971e+09</td>\n",
       "      <td>1.152800e+04</td>\n",
       "      <td>0.000000e+00</td>\n",
       "      <td>9.835520e+05</td>\n",
       "      <td>0.000000e+00</td>\n",
       "      <td>0.000000e+00</td>\n",
       "      <td>5.000000</td>\n",
       "    </tr>\n",
       "  </tbody>\n",
       "</table>\n",
       "</div>"
      ],
      "text/plain": [
       "   header.coff.timestamp  directories.certificate_table_size  \\\n",
       "0           1.278513e+09                        3.993015e+09   \n",
       "1           1.582971e+09                        1.152800e+04   \n",
       "\n",
       "   directories.debug_vaddress  directories.certificate_table_vaddress  \\\n",
       "0                2.108196e+09                            3.910101e+09   \n",
       "1                0.000000e+00                            9.835520e+05   \n",
       "\n",
       "   directories.export_table_vaddress  directories.export_table_size  \\\n",
       "0                       2.896806e+09                   9.885087e+08   \n",
       "1                       0.000000e+00                   0.000000e+00   \n",
       "\n",
       "   header.optional.major_subsystem_version  \n",
       "0                                 9.128388  \n",
       "1                                 5.000000  "
      ]
     },
     "execution_count": 4,
     "metadata": {},
     "output_type": "execute_result"
    }
   ],
   "source": [
    "changeable_str = [\"header.coff.timestamp\",\n",
    "                    \"directories.certificate_table_size\",\n",
    "                    \"directories.debug_vaddress\",\n",
    "                    \"directories.certificate_table_vaddress\",\n",
    "                    \"directories.export_table_vaddress\",\n",
    "                    \"directories.export_table_size\",\n",
    "                    \"header.optional.major_subsystem_version\"]\n",
    "\n",
    "\n",
    "\n",
    "df.loc[:,changeable_str]"
   ]
  },
  {
   "cell_type": "code",
   "execution_count": null,
   "metadata": {},
   "outputs": [],
   "source": []
  }
 ],
 "metadata": {
  "kernelspec": {
   "display_name": "base",
   "language": "python",
   "name": "python3"
  },
  "language_info": {
   "codemirror_mode": {
    "name": "ipython",
    "version": 3
   },
   "file_extension": ".py",
   "mimetype": "text/x-python",
   "name": "python",
   "nbconvert_exporter": "python",
   "pygments_lexer": "ipython3",
   "version": "3.12.3"
  }
 },
 "nbformat": 4,
 "nbformat_minor": 2
}
