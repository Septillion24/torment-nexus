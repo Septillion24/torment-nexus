{
 "cells": [
  {
   "cell_type": "code",
   "execution_count": 1,
   "metadata": {},
   "outputs": [
    {
     "name": "stdout",
     "output_type": "stream",
     "text": [
      "Requirement already satisfied: jupyter>=1.0.0 in /opt/conda/lib/python3.6/site-packages (from -r requirements_notebook.txt (line 1)) (1.0.0)\n",
      "Requirement already satisfied: vega>=2.5 in /opt/conda/lib/python3.6/site-packages (from -r requirements_notebook.txt (line 2)) (3.6.0)\n",
      "Requirement already satisfied: vega_datasets>=0.7.0 in /opt/conda/lib/python3.6/site-packages (from -r requirements_notebook.txt (line 3)) (0.9.0)\n",
      "Requirement already satisfied: altair>=3.1.0 in /opt/conda/lib/python3.6/site-packages (from -r requirements_notebook.txt (line 4)) (4.1.0)\n",
      "Requirement already satisfied: matplotlib>=3.1.1 in /opt/conda/lib/python3.6/site-packages (from -r requirements_notebook.txt (line 5)) (3.3.4)\n",
      "Requirement already satisfied: qtconsole in /opt/conda/lib/python3.6/site-packages (from jupyter>=1.0.0->-r requirements_notebook.txt (line 1)) (5.2.2)\n",
      "Requirement already satisfied: notebook in /opt/conda/lib/python3.6/site-packages (from jupyter>=1.0.0->-r requirements_notebook.txt (line 1)) (6.4.10)\n",
      "Requirement already satisfied: ipykernel in /opt/conda/lib/python3.6/site-packages (from jupyter>=1.0.0->-r requirements_notebook.txt (line 1)) (5.5.6)\n",
      "Requirement already satisfied: nbconvert in /opt/conda/lib/python3.6/site-packages (from jupyter>=1.0.0->-r requirements_notebook.txt (line 1)) (6.0.7)\n",
      "Requirement already satisfied: jupyter-console in /opt/conda/lib/python3.6/site-packages (from jupyter>=1.0.0->-r requirements_notebook.txt (line 1)) (6.4.3)\n",
      "Requirement already satisfied: ipywidgets in /opt/conda/lib/python3.6/site-packages (from jupyter>=1.0.0->-r requirements_notebook.txt (line 1)) (7.8.1)\n",
      "Requirement already satisfied: pandas<2.0.0,>=1.0.0 in /opt/conda/lib/python3.6/site-packages (from vega>=2.5->-r requirements_notebook.txt (line 2)) (1.1.5)\n",
      "Requirement already satisfied: jinja2 in /opt/conda/lib/python3.6/site-packages (from altair>=3.1.0->-r requirements_notebook.txt (line 4)) (3.0.3)\n",
      "Requirement already satisfied: numpy in /opt/conda/lib/python3.6/site-packages (from altair>=3.1.0->-r requirements_notebook.txt (line 4)) (1.19.5)\n",
      "Requirement already satisfied: entrypoints in /opt/conda/lib/python3.6/site-packages (from altair>=3.1.0->-r requirements_notebook.txt (line 4)) (0.4)\n",
      "Requirement already satisfied: jsonschema in /opt/conda/lib/python3.6/site-packages (from altair>=3.1.0->-r requirements_notebook.txt (line 4)) (3.2.0)\n",
      "Requirement already satisfied: toolz in /opt/conda/lib/python3.6/site-packages (from altair>=3.1.0->-r requirements_notebook.txt (line 4)) (0.12.0)\n",
      "Requirement already satisfied: cycler>=0.10 in /opt/conda/lib/python3.6/site-packages (from matplotlib>=3.1.1->-r requirements_notebook.txt (line 5)) (0.11.0)\n",
      "Requirement already satisfied: pillow>=6.2.0 in /opt/conda/lib/python3.6/site-packages (from matplotlib>=3.1.1->-r requirements_notebook.txt (line 5)) (8.4.0)\n",
      "Requirement already satisfied: python-dateutil>=2.1 in /opt/conda/lib/python3.6/site-packages (from matplotlib>=3.1.1->-r requirements_notebook.txt (line 5)) (2.8.2)\n",
      "Requirement already satisfied: pyparsing!=2.0.4,!=2.1.2,!=2.1.6,>=2.0.3 in /opt/conda/lib/python3.6/site-packages (from matplotlib>=3.1.1->-r requirements_notebook.txt (line 5)) (3.0.4)\n",
      "Requirement already satisfied: kiwisolver>=1.0.1 in /opt/conda/lib/python3.6/site-packages (from matplotlib>=3.1.1->-r requirements_notebook.txt (line 5)) (1.3.1)\n",
      "Requirement already satisfied: pytz>=2017.2 in /opt/conda/lib/python3.6/site-packages (from pandas<2.0.0,>=1.0.0->vega>=2.5->-r requirements_notebook.txt (line 2)) (2023.3.post1)\n",
      "Requirement already satisfied: six>=1.5 in /opt/conda/lib/python3.6/site-packages (from python-dateutil>=2.1->matplotlib>=3.1.1->-r requirements_notebook.txt (line 5)) (1.16.0)\n",
      "Requirement already satisfied: ipython>=5.0.0 in /opt/conda/lib/python3.6/site-packages (from ipykernel->jupyter>=1.0.0->-r requirements_notebook.txt (line 1)) (7.16.3)\n",
      "Requirement already satisfied: jupyter-client in /opt/conda/lib/python3.6/site-packages (from ipykernel->jupyter>=1.0.0->-r requirements_notebook.txt (line 1)) (7.1.2)\n",
      "Requirement already satisfied: tornado>=4.2 in /opt/conda/lib/python3.6/site-packages (from ipykernel->jupyter>=1.0.0->-r requirements_notebook.txt (line 1)) (6.1)\n",
      "Requirement already satisfied: traitlets>=4.1.0 in /opt/conda/lib/python3.6/site-packages (from ipykernel->jupyter>=1.0.0->-r requirements_notebook.txt (line 1)) (4.3.3)\n",
      "Requirement already satisfied: ipython-genutils in /opt/conda/lib/python3.6/site-packages (from ipykernel->jupyter>=1.0.0->-r requirements_notebook.txt (line 1)) (0.2.0)\n",
      "Requirement already satisfied: comm>=0.1.3 in /opt/conda/lib/python3.6/site-packages (from ipywidgets->jupyter>=1.0.0->-r requirements_notebook.txt (line 1)) (0.1.4)\n",
      "Requirement already satisfied: jupyterlab-widgets<3,>=1.0.0 in /opt/conda/lib/python3.6/site-packages (from ipywidgets->jupyter>=1.0.0->-r requirements_notebook.txt (line 1)) (1.1.7)\n",
      "Requirement already satisfied: widgetsnbextension~=3.6.6 in /opt/conda/lib/python3.6/site-packages (from ipywidgets->jupyter>=1.0.0->-r requirements_notebook.txt (line 1)) (3.6.6)\n",
      "Requirement already satisfied: MarkupSafe>=2.0 in /opt/conda/lib/python3.6/site-packages (from jinja2->altair>=3.1.0->-r requirements_notebook.txt (line 4)) (2.0.1)\n",
      "Requirement already satisfied: pyrsistent>=0.14.0 in /opt/conda/lib/python3.6/site-packages (from jsonschema->altair>=3.1.0->-r requirements_notebook.txt (line 4)) (0.18.0)\n",
      "Requirement already satisfied: attrs>=17.4.0 in /opt/conda/lib/python3.6/site-packages (from jsonschema->altair>=3.1.0->-r requirements_notebook.txt (line 4)) (22.2.0)\n",
      "Requirement already satisfied: importlib-metadata in /opt/conda/lib/python3.6/site-packages (from jsonschema->altair>=3.1.0->-r requirements_notebook.txt (line 4)) (4.8.1)\n",
      "Requirement already satisfied: setuptools in /opt/conda/lib/python3.6/site-packages (from jsonschema->altair>=3.1.0->-r requirements_notebook.txt (line 4)) (58.0.4)\n",
      "Requirement already satisfied: prompt-toolkit!=3.0.0,!=3.0.1,<3.1.0,>=2.0.0 in /opt/conda/lib/python3.6/site-packages (from jupyter-console->jupyter>=1.0.0->-r requirements_notebook.txt (line 1)) (3.0.36)\n",
      "Requirement already satisfied: pygments in /opt/conda/lib/python3.6/site-packages (from jupyter-console->jupyter>=1.0.0->-r requirements_notebook.txt (line 1)) (2.14.0)\n",
      "Requirement already satisfied: jupyter-core in /opt/conda/lib/python3.6/site-packages (from nbconvert->jupyter>=1.0.0->-r requirements_notebook.txt (line 1)) (4.9.2)\n",
      "Requirement already satisfied: bleach in /opt/conda/lib/python3.6/site-packages (from nbconvert->jupyter>=1.0.0->-r requirements_notebook.txt (line 1)) (4.1.0)\n",
      "Requirement already satisfied: defusedxml in /opt/conda/lib/python3.6/site-packages (from nbconvert->jupyter>=1.0.0->-r requirements_notebook.txt (line 1)) (0.7.1)\n",
      "Requirement already satisfied: nbformat>=4.4 in /opt/conda/lib/python3.6/site-packages (from nbconvert->jupyter>=1.0.0->-r requirements_notebook.txt (line 1)) (5.1.3)\n",
      "Requirement already satisfied: mistune<2,>=0.8.1 in /opt/conda/lib/python3.6/site-packages (from nbconvert->jupyter>=1.0.0->-r requirements_notebook.txt (line 1)) (0.8.4)\n",
      "Requirement already satisfied: jupyterlab-pygments in /opt/conda/lib/python3.6/site-packages (from nbconvert->jupyter>=1.0.0->-r requirements_notebook.txt (line 1)) (0.1.2)\n",
      "Requirement already satisfied: pandocfilters>=1.4.1 in /opt/conda/lib/python3.6/site-packages (from nbconvert->jupyter>=1.0.0->-r requirements_notebook.txt (line 1)) (1.5.1)\n",
      "Requirement already satisfied: testpath in /opt/conda/lib/python3.6/site-packages (from nbconvert->jupyter>=1.0.0->-r requirements_notebook.txt (line 1)) (0.6.0)\n",
      "Requirement already satisfied: nbclient<0.6.0,>=0.5.0 in /opt/conda/lib/python3.6/site-packages (from nbconvert->jupyter>=1.0.0->-r requirements_notebook.txt (line 1)) (0.5.9)\n",
      "Requirement already satisfied: Send2Trash>=1.8.0 in /opt/conda/lib/python3.6/site-packages (from notebook->jupyter>=1.0.0->-r requirements_notebook.txt (line 1)) (1.8.2)\n",
      "Requirement already satisfied: terminado>=0.8.3 in /opt/conda/lib/python3.6/site-packages (from notebook->jupyter>=1.0.0->-r requirements_notebook.txt (line 1)) (0.12.1)\n",
      "Requirement already satisfied: pyzmq>=17 in /opt/conda/lib/python3.6/site-packages (from notebook->jupyter>=1.0.0->-r requirements_notebook.txt (line 1)) (25.1.2)\n",
      "Requirement already satisfied: nest-asyncio>=1.5 in /opt/conda/lib/python3.6/site-packages (from notebook->jupyter>=1.0.0->-r requirements_notebook.txt (line 1)) (1.6.0)\n",
      "Requirement already satisfied: argon2-cffi in /opt/conda/lib/python3.6/site-packages (from notebook->jupyter>=1.0.0->-r requirements_notebook.txt (line 1)) (21.3.0)\n",
      "Requirement already satisfied: prometheus-client in /opt/conda/lib/python3.6/site-packages (from notebook->jupyter>=1.0.0->-r requirements_notebook.txt (line 1)) (0.17.1)\n",
      "Requirement already satisfied: qtpy in /opt/conda/lib/python3.6/site-packages (from qtconsole->jupyter>=1.0.0->-r requirements_notebook.txt (line 1)) (2.0.1)\n",
      "Requirement already satisfied: backcall in /opt/conda/lib/python3.6/site-packages (from ipython>=5.0.0->ipykernel->jupyter>=1.0.0->-r requirements_notebook.txt (line 1)) (0.2.0)\n",
      "Requirement already satisfied: decorator in /opt/conda/lib/python3.6/site-packages (from ipython>=5.0.0->ipykernel->jupyter>=1.0.0->-r requirements_notebook.txt (line 1)) (4.4.2)\n",
      "Requirement already satisfied: pexpect in /opt/conda/lib/python3.6/site-packages (from ipython>=5.0.0->ipykernel->jupyter>=1.0.0->-r requirements_notebook.txt (line 1)) (4.9.0)\n",
      "Requirement already satisfied: jedi<=0.17.2,>=0.10 in /opt/conda/lib/python3.6/site-packages (from ipython>=5.0.0->ipykernel->jupyter>=1.0.0->-r requirements_notebook.txt (line 1)) (0.17.2)\n",
      "Requirement already satisfied: pickleshare in /opt/conda/lib/python3.6/site-packages (from ipython>=5.0.0->ipykernel->jupyter>=1.0.0->-r requirements_notebook.txt (line 1)) (0.7.5)\n",
      "Requirement already satisfied: async-generator in /opt/conda/lib/python3.6/site-packages (from nbclient<0.6.0,>=0.5.0->nbconvert->jupyter>=1.0.0->-r requirements_notebook.txt (line 1)) (1.10)\n",
      "Requirement already satisfied: wcwidth in /opt/conda/lib/python3.6/site-packages (from prompt-toolkit!=3.0.0,!=3.0.1,<3.1.0,>=2.0.0->jupyter-console->jupyter>=1.0.0->-r requirements_notebook.txt (line 1)) (0.2.13)\n",
      "Requirement already satisfied: ptyprocess in /opt/conda/lib/python3.6/site-packages (from terminado>=0.8.3->notebook->jupyter>=1.0.0->-r requirements_notebook.txt (line 1)) (0.7.0)\n",
      "Requirement already satisfied: typing-extensions in /opt/conda/lib/python3.6/site-packages (from argon2-cffi->notebook->jupyter>=1.0.0->-r requirements_notebook.txt (line 1)) (4.1.1)\n",
      "Requirement already satisfied: argon2-cffi-bindings in /opt/conda/lib/python3.6/site-packages (from argon2-cffi->notebook->jupyter>=1.0.0->-r requirements_notebook.txt (line 1)) (21.2.0)\n",
      "Requirement already satisfied: dataclasses in /opt/conda/lib/python3.6/site-packages (from argon2-cffi->notebook->jupyter>=1.0.0->-r requirements_notebook.txt (line 1)) (0.8)\n",
      "Requirement already satisfied: packaging in /opt/conda/lib/python3.6/site-packages (from bleach->nbconvert->jupyter>=1.0.0->-r requirements_notebook.txt (line 1)) (21.3)\n",
      "Requirement already satisfied: webencodings in /opt/conda/lib/python3.6/site-packages (from bleach->nbconvert->jupyter>=1.0.0->-r requirements_notebook.txt (line 1)) (0.5.1)\n",
      "Requirement already satisfied: zipp>=0.5 in /opt/conda/lib/python3.6/site-packages (from importlib-metadata->jsonschema->altair>=3.1.0->-r requirements_notebook.txt (line 4)) (3.6.0)\n",
      "Requirement already satisfied: parso<0.8.0,>=0.7.0 in /opt/conda/lib/python3.6/site-packages (from jedi<=0.17.2,>=0.10->ipython>=5.0.0->ipykernel->jupyter>=1.0.0->-r requirements_notebook.txt (line 1)) (0.7.1)\n",
      "Requirement already satisfied: cffi>=1.0.1 in /opt/conda/lib/python3.6/site-packages (from argon2-cffi-bindings->argon2-cffi->notebook->jupyter>=1.0.0->-r requirements_notebook.txt (line 1)) (1.14.6)\n",
      "Requirement already satisfied: pycparser in /opt/conda/lib/python3.6/site-packages (from cffi>=1.0.1->argon2-cffi-bindings->argon2-cffi->notebook->jupyter>=1.0.0->-r requirements_notebook.txt (line 1)) (2.21)\n",
      "\u001b[33mWARNING: Running pip as the 'root' user can result in broken permissions and conflicting behaviour with the system package manager. It is recommended to use a virtual environment instead: https://pip.pypa.io/warnings/venv\u001b[0m\n",
      "running install\n",
      "running bdist_egg\n",
      "running egg_info\n",
      "writing ember.egg-info/PKG-INFO\n",
      "writing dependency_links to ember.egg-info/dependency_links.txt\n",
      "writing top-level names to ember.egg-info/top_level.txt\n",
      "reading manifest file 'ember.egg-info/SOURCES.txt'\n",
      "adding license file 'LICENSE.txt'\n",
      "writing manifest file 'ember.egg-info/SOURCES.txt'\n",
      "installing library code to build/bdist.linux-x86_64/egg\n",
      "running install_lib\n",
      "running build_py\n",
      "creating build/bdist.linux-x86_64/egg\n",
      "creating build/bdist.linux-x86_64/egg/ember\n",
      "copying build/lib/ember/features.py -> build/bdist.linux-x86_64/egg/ember\n",
      "copying build/lib/ember/__init__.py -> build/bdist.linux-x86_64/egg/ember\n",
      "byte-compiling build/bdist.linux-x86_64/egg/ember/features.py to features.cpython-36.pyc\n",
      "byte-compiling build/bdist.linux-x86_64/egg/ember/__init__.py to __init__.cpython-36.pyc\n",
      "creating build/bdist.linux-x86_64/egg/EGG-INFO\n",
      "copying ember.egg-info/PKG-INFO -> build/bdist.linux-x86_64/egg/EGG-INFO\n",
      "copying ember.egg-info/SOURCES.txt -> build/bdist.linux-x86_64/egg/EGG-INFO\n",
      "copying ember.egg-info/dependency_links.txt -> build/bdist.linux-x86_64/egg/EGG-INFO\n",
      "copying ember.egg-info/top_level.txt -> build/bdist.linux-x86_64/egg/EGG-INFO\n",
      "zip_safe flag not set; analyzing archive contents...\n",
      "creating 'dist/ember-0.1.0-py3.6.egg' and adding 'build/bdist.linux-x86_64/egg' to it\n",
      "removing 'build/bdist.linux-x86_64/egg' (and everything under it)\n",
      "Processing ember-0.1.0-py3.6.egg\n",
      "Removing /opt/conda/lib/python3.6/site-packages/ember-0.1.0-py3.6.egg\n",
      "Copying ember-0.1.0-py3.6.egg to /opt/conda/lib/python3.6/site-packages\n",
      "ember 0.1.0 is already the active version in easy-install.pth\n",
      "\n",
      "Installed /opt/conda/lib/python3.6/site-packages/ember-0.1.0-py3.6.egg\n",
      "Processing dependencies for ember==0.1.0\n",
      "Finished processing dependencies for ember==0.1.0\n"
     ]
    }
   ],
   "source": [
    "! cd /workspaces/torment-nexus/ && pip install -r requirements_notebook.txt && python3 setup.py install"
   ]
  },
  {
   "cell_type": "code",
   "execution_count": 2,
   "metadata": {},
   "outputs": [
    {
     "name": "stderr",
     "output_type": "stream",
     "text": [
      "/opt/conda/lib/python3.6/site-packages/sklearn/utils/fixes.py:28: UserWarning: Module ember was already imported from /opt/conda/lib/python3.6/site-packages/ember-0.1.0-py3.6.egg/ember/__init__.py, but /workspaces/torment-nexus/notebooks is being added to sys.path\n",
      "  from pkg_resources import parse_version  # type: ignore\n"
     ]
    }
   ],
   "source": [
    "import ember\n",
    "\n",
    "data_dir = \"../ember2018/\"\n",
    "\n"
   ]
  },
  {
   "cell_type": "code",
   "execution_count": 3,
   "metadata": {},
   "outputs": [
    {
     "name": "stdout",
     "output_type": "stream",
     "text": [
      "Vectorizing training set\n"
     ]
    }
   ],
   "source": [
    "ember.create_vectorized_features(data_dir, 2)\n",
    "_ = ember.create_metadata(data_dir)"
   ]
  },
  {
   "cell_type": "code",
   "execution_count": null,
   "metadata": {},
   "outputs": [],
   "source": []
  }
 ],
 "metadata": {
  "kernelspec": {
   "display_name": "base",
   "language": "python",
   "name": "python3"
  },
  "language_info": {
   "codemirror_mode": {
    "name": "ipython",
    "version": 3
   },
   "file_extension": ".py",
   "mimetype": "text/x-python",
   "name": "python",
   "nbconvert_exporter": "python",
   "pygments_lexer": "ipython3",
   "version": "3.6.13"
  }
 },
 "nbformat": 4,
 "nbformat_minor": 2
}
