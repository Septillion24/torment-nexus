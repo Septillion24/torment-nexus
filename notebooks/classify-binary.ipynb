{
 "cells": [
  {
   "cell_type": "code",
   "execution_count": 1,
   "metadata": {},
   "outputs": [
    {
     "name": "stderr",
     "output_type": "stream",
     "text": [
      "/opt/conda/lib/python3.6/site-packages/sklearn/utils/fixes.py:28: UserWarning: Module ember was already imported from /opt/conda/lib/python3.6/site-packages/ember-0.1.0-py3.6.egg/ember/__init__.py, but /workspaces/torment-nexus/notebooks is being added to sys.path\n",
      "  from pkg_resources import parse_version  # type: ignore\n"
     ]
    }
   ],
   "source": [
    "import os\n",
    "import ember\n",
    "import lightgbm as lgb\n",
    "import numpy as np\n",
    "\n",
    "binary_name = \"DUAL_COUGH\" #set this to the binary name, put the ones u want to test in /binaries\n",
    "\n",
    "data_dir = \"../ember2018/\""
   ]
  },
  {
   "cell_type": "code",
   "execution_count": 2,
   "metadata": {},
   "outputs": [],
   "source": [
    "# ~4 mns\n",
    "binary_location = f\"/workspaces/torment-nexus/binaries/{binary_name}\"\n",
    "\n",
    "emberdf = ember.read_metadata(data_dir)\n",
    "X_train, y_train, X_test, y_test = ember.read_vectorized_features(data_dir, feature_version=2)\n",
    "lgbm_model = lgb.Booster(model_file=os.path.join(data_dir, \"ember_model_2018.txt\"))"
   ]
  },
  {
   "cell_type": "code",
   "execution_count": 3,
   "metadata": {},
   "outputs": [
    {
     "name": "stdout",
     "output_type": "stream",
     "text": [
      "WARNING: EMBER feature version 1 were computed using lief version 0.8.3-18d5b75\n",
      "WARNING:   lief version 0.9.0- found instead. There may be slight inconsistencies\n",
      "WARNING:   in the feature calculations.\n",
      "lief error:  This file is not a PE binary\n"
     ]
    }
   ],
   "source": [
    "extractor1 = ember.PEFeatureExtractor(1)\n",
    "extractor2 = ember.PEFeatureExtractor(2)\n",
    "\n",
    "file_data = open(binary_location, \"rb\").read()\n",
    "feature_vector = extractor2.feature_vector(file_data)\n"
   ]
  },
  {
   "cell_type": "code",
   "execution_count": 4,
   "metadata": {},
   "outputs": [
    {
     "data": {
      "text/plain": [
       "0.23632562537469862"
      ]
     },
     "execution_count": 4,
     "metadata": {},
     "output_type": "execute_result"
    }
   ],
   "source": [
    "lgbm_model.predict([np.array(feature_vector, dtype=np.float32)])[0]"
   ]
  }
 ],
 "metadata": {
  "kernelspec": {
   "display_name": "base",
   "language": "python",
   "name": "python3"
  },
  "language_info": {
   "codemirror_mode": {
    "name": "ipython",
    "version": 3
   },
   "file_extension": ".py",
   "mimetype": "text/x-python",
   "name": "python",
   "nbconvert_exporter": "python",
   "pygments_lexer": "ipython3",
   "version": "3.6.13"
  }
 },
 "nbformat": 4,
 "nbformat_minor": 2
}
