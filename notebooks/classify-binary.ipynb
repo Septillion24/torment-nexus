{
 "cells": [
  {
   "cell_type": "code",
   "execution_count": null,
   "metadata": {},
   "outputs": [],
   "source": [
    "import os\n",
    "import ember\n",
    "import lightgbm as lgb\n",
    "import numpy as np\n",
    "\n",
    "binary_name = \"postgresql-16.2-1-windows-x64.exe\" #set this to the binary name, put the ones u want to test in /binaries\n",
    "\n",
    "data_dir = \"../ember2018/\""
   ]
  },
  {
   "cell_type": "code",
   "execution_count": null,
   "metadata": {},
   "outputs": [],
   "source": [
    "# ~4 mns\n",
    "binary_location = f\"/workspaces/torment-nexus/binaries/{binary_name}\"\n",
    "\n",
    "lgbm_model = ember.train_model(\"/workspaces/torment-nexus/ember2018\")\n",
    "emberdf = ember.read_metadata(data_dir)\n",
    "X_train, y_train, X_test, y_test = ember.read_vectorized_features(data_dir, feature_version=2)\n",
    "lgbm_model = lgb.Booster(model_file=os.path.join(data_dir, \"ember_model_2018.txt\"))"
   ]
  },
  {
   "cell_type": "code",
   "execution_count": null,
   "metadata": {},
   "outputs": [],
   "source": [
    "extractor1 = ember.PEFeatureExtractor(1)\n",
    "extractor2 = ember.PEFeatureExtractor(2)\n",
    "\n",
    "file_data = open(binary_location, \"rb\").read()\n",
    "feature_vector = extractor2.feature_vector(file_data)\n"
   ]
  },
  {
   "cell_type": "code",
   "execution_count": null,
   "metadata": {},
   "outputs": [],
   "source": [
    "lgbm_model.predict([np.array(feature_vector, dtype=np.float32)])[0]"
   ]
  }
 ],
 "metadata": {
  "kernelspec": {
   "display_name": "base",
   "language": "python",
   "name": "python3"
  },
  "language_info": {
   "codemirror_mode": {
    "name": "ipython",
    "version": 3
   },
   "file_extension": ".py",
   "mimetype": "text/x-python",
   "name": "python",
   "nbconvert_exporter": "python",
   "pygments_lexer": "ipython3",
   "version": "3.6.13"
  }
 },
 "nbformat": 4,
 "nbformat_minor": 2
}
