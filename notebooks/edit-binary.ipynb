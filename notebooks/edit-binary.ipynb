{
 "cells": [
  {
   "cell_type": "code",
   "execution_count": 1,
   "metadata": {},
   "outputs": [],
   "source": [
    "import os\n",
    "import ember\n",
    "import lightgbm as lgb\n",
    "import shap\n",
    "import numpy as np\n",
    "import pandas as pd\n",
    "import lief\n",
    "\n",
    "binary_name = \"mimikatz2.exe\" #set this to the binary name, put the ones u want to test in /binaries\n",
    "\n",
    "data_dir = \"../ember2018/\""
   ]
  },
  {
   "cell_type": "code",
   "execution_count": 45,
   "metadata": {},
   "outputs": [
    {
     "name": "stderr",
     "output_type": "stream",
     "text": [
      "Unable to find the section associated with EXPORT_TABLE\n",
      "Can't read the export table at 0xffffffff\n"
     ]
    }
   ],
   "source": [
    "binary_location = f\"/workspaces/torment-nexus/binaries/{binary_name}\"\n",
    "binary = lief.PE.parse(binary_location)\n",
    "data_directory = binary.data_directories \n",
    "new_address = 0xff000000\n",
    "data_directory[4].rva = new_address\n",
    "binary.write(\"/workspaces/torment-nexus/binaries/mimikatz-edited.exe\")"
   ]
  },
  {
   "cell_type": "code",
   "execution_count": 8,
   "metadata": {},
   "outputs": [
    {
     "name": "stdout",
     "output_type": "stream",
     "text": [
      "Best position: [ 0.         -0.07416474  0.        ]\n",
      "Best score: 0.005500408089231615\n"
     ]
    }
   ],
   "source": [
    "import numpy as np\n",
    "\n",
    "# Objective function\n",
    "def objective_function(x):\n",
    "    return x[0]**2 + x[1]**2 + x[2]**2\n",
    "\n",
    "# PSO parameters\n",
    "num_particles = 30\n",
    "num_iterations = 100\n",
    "dim = 3\n",
    "c1 = c2 = 1.49445\n",
    "w = 0.729\n",
    "bounds = [(0, 10), (-5, 5), (0, 3)]\n",
    "changeable = [0, 2]  # Indices of changeable features\n",
    "\n",
    "# Initialize particles\n",
    "particles = np.random.uniform([b[0] for b in bounds], [b[1] for b in bounds], (num_particles, dim))\n",
    "velocities = np.random.uniform(-1, 1, (num_particles, dim))\n",
    "personal_best_positions = np.copy(particles)\n",
    "personal_best_scores = np.array([objective_function(p) for p in particles])\n",
    "global_best_position = personal_best_positions[np.argmin(personal_best_scores)]\n",
    "\n",
    "# PSO loop\n",
    "for _ in range(num_iterations):\n",
    "    for i in range(num_particles):\n",
    "        for j in changeable:\n",
    "            velocities[i, j] = (w * velocities[i, j] +\n",
    "                                c1 * np.random.rand() * (personal_best_positions[i, j] - particles[i, j]) +\n",
    "                                c2 * np.random.rand() * (global_best_position[j] - particles[i, j]))\n",
    "            particles[i, j] += velocities[i, j]\n",
    "            particles[i, j] = np.clip(particles[i, j], bounds[j][0], bounds[j][1])\n",
    "        score = objective_function(particles[i])\n",
    "        if score < personal_best_scores[i]:\n",
    "            personal_best_scores[i] = score\n",
    "            personal_best_positions[i] = particles[i]\n",
    "    global_best_position = personal_best_positions[np.argmin(personal_best_scores)]\n",
    "\n",
    "print(\"Best position:\", global_best_position)\n",
    "print(\"Best score:\", objective_function(global_best_position))\n"
   ]
  },
  {
   "cell_type": "code",
   "execution_count": 38,
   "metadata": {},
   "outputs": [
    {
     "data": {
      "text/plain": [
       "'0x0000000c'"
      ]
     },
     "execution_count": 38,
     "metadata": {},
     "output_type": "execute_result"
    }
   ],
   "source": []
  },
  {
   "cell_type": "code",
   "execution_count": 43,
   "metadata": {},
   "outputs": [
    {
     "data": {
      "text/plain": [
       "12"
      ]
     },
     "execution_count": 43,
     "metadata": {},
     "output_type": "execute_result"
    }
   ],
   "source": []
  },
  {
   "cell_type": "code",
   "execution_count": null,
   "metadata": {},
   "outputs": [],
   "source": []
  }
 ],
 "metadata": {
  "kernelspec": {
   "display_name": "base",
   "language": "python",
   "name": "python3"
  },
  "language_info": {
   "codemirror_mode": {
    "name": "ipython",
    "version": 3
   },
   "file_extension": ".py",
   "mimetype": "text/x-python",
   "name": "python",
   "nbconvert_exporter": "python",
   "pygments_lexer": "ipython3",
   "version": "3.12.3"
  }
 },
 "nbformat": 4,
 "nbformat_minor": 2
}
